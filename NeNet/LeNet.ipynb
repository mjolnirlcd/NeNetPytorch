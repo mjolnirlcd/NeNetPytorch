{
 "cells": [
  {
   "cell_type": "code",
   "execution_count": 38,
   "id": "777fbfc3",
   "metadata": {},
   "outputs": [],
   "source": [
    "import torch\n",
    "import torch.nn as nn"
   ]
  },
  {
   "cell_type": "code",
   "execution_count": 39,
   "id": "eb46e774",
   "metadata": {},
   "outputs": [],
   "source": [
    "#pip install torch"
   ]
  },
  {
   "cell_type": "code",
   "execution_count": 51,
   "id": "6c2f5a80",
   "metadata": {},
   "outputs": [],
   "source": [
    "class LeNet(nn.Module):\n",
    "    def __init__(self):\n",
    "        super(LeNet, self).__init__()\n",
    "        self.conv1 = nn.Conv2d(1, 6, 5)\n",
    "        self.pool1 = nn.MaxPool2d(2, 2)\n",
    "        self.conv2 = nn.Conv2d(6, 16, 5)\n",
    "        self.pool2 = nn.MaxPool2d(2, 2)\n",
    "        self.fc1 = nn.Linear(16*4*4, 120)  # full connection\n",
    "        self.fc2 = nn.Linear(120, 84)\n",
    "        self.fc3 = nn.Linear(84, 10)\n",
    "    \n",
    "    def forward(self, x):\n",
    "        x = self.pool1(torch.sigmoid(self.conv1(x)))\n",
    "        x = self.pool2(torch.sigmoid(self.conv2(x)))\n",
    "        x = x.view(-1, 16*4*4)  # transform matrix\n",
    "        x = torch.sigmoid(self.fc1(x))\n",
    "        x = torch.sigmoid(self.fc2(x))\n",
    "        x = self.fc3(x)\n",
    "        return x\n"
   ]
  },
  {
   "cell_type": "code",
   "execution_count": 52,
   "id": "e3322322",
   "metadata": {},
   "outputs": [],
   "source": [
    "net = LeNet()"
   ]
  },
  {
   "cell_type": "markdown",
   "id": "59fddc2e",
   "metadata": {},
   "source": [
    "#### Step to transform your dataset\n",
    "1.Transform into \"tensor\"\n",
    "2.Trasnform into \"Dataset\"\n",
    "3.Gennerate \"DataLoader\""
   ]
  },
  {
   "cell_type": "code",
   "execution_count": 42,
   "id": "38b2a302",
   "metadata": {},
   "outputs": [],
   "source": [
    "import numpy as np\n",
    "\n",
    "#import mnist dataset\n",
    "train_X, test_X, train_y, test_y = np.load(\n",
    " 'F:/LeNet project/dataset/mnist.npy', allow_pickle=True)\n",
    "\n",
    "#transform into 28*28 matrix\n",
    "x_train = train_X.reshape(60000, 28*28).astype(np.float32)\n",
    "x_test = test_X.reshape(10000, 28*28).astype(np.float32)"
   ]
  },
  {
   "cell_type": "code",
   "execution_count": 43,
   "id": "c3992c9a",
   "metadata": {},
   "outputs": [],
   "source": [
    "# Transform ndarray too tensor\n",
    "\n",
    "x_train, y_train, x_test, y_test = map(\n",
    "   torch.tensor, (x_train, train_y, x_test, test_y))"
   ]
  },
  {
   "cell_type": "code",
   "execution_count": 44,
   "id": "74994eb9",
   "metadata": {},
   "outputs": [],
   "source": [
    "# Generate dataset\n",
    "\n",
    "from torch.utils.data import TensorDataset"
   ]
  },
  {
   "cell_type": "code",
   "execution_count": 45,
   "id": "cc53e0ce",
   "metadata": {},
   "outputs": [],
   "source": [
    "# put x_train and y_train as one TensoDataset\n",
    "train_ds = TensorDataset(x_train, y_train)"
   ]
  },
  {
   "cell_type": "markdown",
   "id": "03073b7d",
   "metadata": {},
   "source": [
    "\"Pytorch's DataLoader is responsible for batch management. It requires creating a DataLoader from a Dataset. DataLoader makes iteration easier, and can automatically provide us with randomly shuffled mini-batches.\""
   ]
  },
  {
   "cell_type": "code",
   "execution_count": 46,
   "id": "f843809f",
   "metadata": {},
   "outputs": [],
   "source": [
    "from torch.utils.data import DataLoader\n",
    "bs = 64\n",
    "train_ds = TensorDataset(x_train, y_train)\n",
    "train_dl = DataLoader(train_ds, batch_size=bs, shuffle=True)"
   ]
  },
  {
   "cell_type": "code",
   "execution_count": 47,
   "id": "75dac7c1",
   "metadata": {},
   "outputs": [],
   "source": [
    "epochs = 32"
   ]
  },
  {
   "cell_type": "code",
   "execution_count": 54,
   "id": "2c48ce26",
   "metadata": {},
   "outputs": [],
   "source": [
    "from torch import optim\n",
    "opt = optim.SGD(net.parameters(), lr=0.01) # Define a optimizer\n",
    "\n",
    "lr = 0.01"
   ]
  },
  {
   "cell_type": "code",
   "execution_count": 55,
   "id": "cc6af340",
   "metadata": {},
   "outputs": [],
   "source": [
    "# Loss\n",
    "import torch.nn.functional as F\n",
    "loss_func = F.cross_entropy "
   ]
  },
  {
   "cell_type": "code",
   "execution_count": 56,
   "id": "e8645a7c",
   "metadata": {},
   "outputs": [
    {
     "name": "stdout",
     "output_type": "stream",
     "text": [
      "0 tensor(2.3135, grad_fn=<NllLossBackward0>)\n",
      "1 tensor(2.3016, grad_fn=<NllLossBackward0>)\n",
      "2 tensor(2.2926, grad_fn=<NllLossBackward0>)\n",
      "3 tensor(2.2978, grad_fn=<NllLossBackward0>)\n",
      "4 tensor(2.3222, grad_fn=<NllLossBackward0>)\n",
      "5 tensor(2.3039, grad_fn=<NllLossBackward0>)\n",
      "6 tensor(2.3026, grad_fn=<NllLossBackward0>)\n",
      "7 tensor(2.2838, grad_fn=<NllLossBackward0>)\n",
      "8 tensor(2.2961, grad_fn=<NllLossBackward0>)\n",
      "9 tensor(2.2760, grad_fn=<NllLossBackward0>)\n",
      "10 tensor(2.2984, grad_fn=<NllLossBackward0>)\n",
      "11 tensor(2.2950, grad_fn=<NllLossBackward0>)\n",
      "12 tensor(2.3145, grad_fn=<NllLossBackward0>)\n",
      "13 tensor(2.3127, grad_fn=<NllLossBackward0>)\n",
      "14 tensor(2.3128, grad_fn=<NllLossBackward0>)\n",
      "15 tensor(2.3052, grad_fn=<NllLossBackward0>)\n",
      "16 tensor(2.3331, grad_fn=<NllLossBackward0>)\n",
      "17 tensor(2.2953, grad_fn=<NllLossBackward0>)\n",
      "18 tensor(2.2831, grad_fn=<NllLossBackward0>)\n",
      "19 tensor(2.3001, grad_fn=<NllLossBackward0>)\n",
      "20 tensor(2.3044, grad_fn=<NllLossBackward0>)\n",
      "21 tensor(2.3091, grad_fn=<NllLossBackward0>)\n",
      "22 tensor(2.2868, grad_fn=<NllLossBackward0>)\n",
      "23 tensor(2.3143, grad_fn=<NllLossBackward0>)\n",
      "24 tensor(2.3010, grad_fn=<NllLossBackward0>)\n",
      "25 tensor(2.3054, grad_fn=<NllLossBackward0>)\n",
      "26 tensor(2.3135, grad_fn=<NllLossBackward0>)\n",
      "27 tensor(2.3000, grad_fn=<NllLossBackward0>)\n",
      "28 tensor(2.2886, grad_fn=<NllLossBackward0>)\n",
      "29 tensor(2.2875, grad_fn=<NllLossBackward0>)\n",
      "30 tensor(2.2790, grad_fn=<NllLossBackward0>)\n",
      "31 tensor(2.2673, grad_fn=<NllLossBackward0>)\n"
     ]
    }
   ],
   "source": [
    "for epoch in range(epochs):\n",
    "    for xb, yb in train_dl:\n",
    "        xb = torch.reshape(xb, [-1, 1, 28, 28])\n",
    "        pred = net(xb)\n",
    "        loss = loss_func(pred, yb)\n",
    "        loss.backward()\n",
    "        opt.step()\n",
    "        opt.zero_grad()\n",
    "        \n",
    "    print(epoch, loss)"
   ]
  }
 ],
 "metadata": {
  "kernelspec": {
   "display_name": "Python 3",
   "language": "python",
   "name": "python3"
  },
  "language_info": {
   "codemirror_mode": {
    "name": "ipython",
    "version": 3
   },
   "file_extension": ".py",
   "mimetype": "text/x-python",
   "name": "python",
   "nbconvert_exporter": "python",
   "pygments_lexer": "ipython3",
   "version": "3.8.8"
  }
 },
 "nbformat": 4,
 "nbformat_minor": 5
}
